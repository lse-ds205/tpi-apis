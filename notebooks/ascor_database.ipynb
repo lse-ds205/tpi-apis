{
 "cells": [
  {
   "cell_type": "markdown",
   "metadata": {},
   "source": [
    "# ASCOR database creation \n",
    "\n",
    "This notebook creates the SQL database for the ASCOR data."
   ]
  },
  {
   "cell_type": "markdown",
   "metadata": {},
   "source": [
    "# Necessary downloads"
   ]
  },
  {
   "cell_type": "code",
   "execution_count": 4,
   "metadata": {},
   "outputs": [],
   "source": [
    "import sys\n",
    "import os\n",
    "import re\n",
    "import pandas as pd \n",
    "import pandas as pd\n",
    "from sqlalchemy import create_engine, text\n",
    "from dotenv import load_dotenv\n",
    "import pandas as pd\n",
    "import os\n",
    "import re\n",
    "from sqlalchemy import create_engine, text\n",
    "from dotenv import load_dotenv\n",
    "import os\n",
    "# Add the project root to path\n",
    "sys.path.append(os.path.abspath(os.path.join(os.getcwd(), '..')))\n",
    "\n",
    "# Now import with full module path\n",
    "from utils.database_creation_utils import get_db_connection, get_engine\n",
    "\n",
    "engine = get_engine()\n",
    "\n"
   ]
  },
  {
   "cell_type": "markdown",
   "metadata": {},
   "source": [
    "# Creating Country Entity"
   ]
  },
  {
   "cell_type": "markdown",
   "metadata": {},
   "source": [
    "THIS ADDS IT TO ASCOR BECAUSE OF THE ENV FILE MAKE THE ENGONE FUNCITON BE ALE TO SPECIFCY WHAT TO CONNECT TO "
   ]
  },
  {
   "cell_type": "code",
   "execution_count": null,
   "metadata": {},
   "outputs": [
    {
     "name": "stdout",
     "output_type": "stream",
     "text": [
      "✅ Country table created and populated successfully.\n"
     ]
    }
   ],
   "source": [
    "\n",
    "# Load the Excel file\n",
    "df = pd.read_excel(\"../data/TPI_ASCOR_data_13012025/ASCOR_countries.xlsx\")\n",
    "df.columns = df.columns.str.strip()\n",
    "\n",
    "# Drop and create the country table\n",
    "create_country_sql = \"\"\"\n",
    "DROP TABLE IF EXISTS country;\n",
    "\n",
    "CREATE TABLE country (\n",
    "  country_name VARCHAR NOT NULL,\n",
    "  country_id INT NOT NULL,\n",
    "  iso VARCHAR,\n",
    "  region VARCHAR,\n",
    "  bank_lending_group VARCHAR,\n",
    "  imf_category VARCHAR,\n",
    "  un_party_type VARCHAR,\n",
    "  PRIMARY KEY (country_name, country_id)\n",
    ");\n",
    "\"\"\"\n",
    "\n",
    "with engine.connect() as conn:\n",
    "    conn.execute(text(create_country_sql))\n",
    "    conn.commit()\n",
    "\n",
    "# Select and rename columns to match database schema\n",
    "country_df = df[[\n",
    "    'Name',\n",
    "    'Id',\n",
    "    'Country ISO code',\n",
    "    'Region',\n",
    "    'World Bank lending group',\n",
    "    'International Monetary Fund fiscal monitor category',\n",
    "    'Type of Party to the United Nations Framework Convention on Climate Change'\n",
    "]].copy()\n",
    "\n",
    "country_df.columns = [\n",
    "    'country_name', 'country_id', 'iso', 'region',\n",
    "    'bank_lending_group', 'imf_category', 'un_party_type'\n",
    "]\n",
    "\n",
    "# Insert into database\n",
    "country_df.to_sql(\"country\", engine, if_exists=\"append\", index=False)\n",
    "\n",
    "print(\"Country table created and populated successfully.\")\n"
   ]
  },
  {
   "cell_type": "markdown",
   "metadata": {},
   "source": []
  }
 ],
 "metadata": {
  "kernelspec": {
   "display_name": "venv",
   "language": "python",
   "name": "python3"
  },
  "language_info": {
   "codemirror_mode": {
    "name": "ipython",
    "version": 3
   },
   "file_extension": ".py",
   "mimetype": "text/x-python",
   "name": "python",
   "nbconvert_exporter": "python",
   "pygments_lexer": "ipython3",
   "version": "3.12.7"
  }
 },
 "nbformat": 4,
 "nbformat_minor": 2
}
